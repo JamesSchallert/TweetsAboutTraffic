{
 "cells": [
  {
   "cell_type": "code",
   "execution_count": 30,
   "metadata": {},
   "outputs": [],
   "source": [
    "## James Schallert\n",
    "## Data Mining\n",
    "## Homework 2-B"
   ]
  },
  {
   "cell_type": "code",
   "execution_count": 31,
   "metadata": {},
   "outputs": [],
   "source": [
    "import json"
   ]
  },
  {
   "cell_type": "code",
   "execution_count": 32,
   "metadata": {},
   "outputs": [],
   "source": [
    "with open('query1Tweets.txt') as f:\n",
    "    for line in f:\n",
    "        tweet = dict()\n",
    "        rawTweet = json.loads(line)\n",
    "        tweet['id'] = rawTweet['id']\n",
    "        tweet['text'] = rawTweet['text']\n",
    "        tweet['relevant'] = True\n",
    "        tweet['match'] = True\n",
    "        mEntry = json.dumps(tweet)\n",
    "        f2 = open('m.txt', 'a')\n",
    "        f2.write(mEntry + '\\n')\n",
    "        f2.close()"
   ]
  },
  {
   "cell_type": "code",
   "execution_count": 33,
   "metadata": {},
   "outputs": [],
   "source": [
    "with open('query2Tweets.txt') as f:\n",
    "    dTweets = list()\n",
    "    for line in f:\n",
    "        tweet = dict()\n",
    "        rawTweet = json.loads(line)\n",
    "        tweet['id'] = rawTweet['id']\n",
    "        tweet['text'] = rawTweet['text']\n",
    "        tweet['relevant'] = True\n",
    "        tweet['match'] = True\n",
    "        dEntry = json.dumps(tweet)\n",
    "        f2 = open('d.txt', 'a')\n",
    "        f2.write(dEntry + '\\n')\n",
    "        f2.close()"
   ]
  },
  {
   "cell_type": "code",
   "execution_count": null,
   "metadata": {},
   "outputs": [],
   "source": []
  }
 ],
 "metadata": {
  "kernelspec": {
   "display_name": "Python 3",
   "language": "python",
   "name": "python3"
  },
  "language_info": {
   "codemirror_mode": {
    "name": "ipython",
    "version": 3
   },
   "file_extension": ".py",
   "mimetype": "text/x-python",
   "name": "python",
   "nbconvert_exporter": "python",
   "pygments_lexer": "ipython3",
   "version": "3.6.5"
  }
 },
 "nbformat": 4,
 "nbformat_minor": 2
}

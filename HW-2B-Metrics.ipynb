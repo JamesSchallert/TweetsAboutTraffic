{
 "cells": [
  {
   "cell_type": "code",
   "execution_count": 5,
   "metadata": {},
   "outputs": [],
   "source": [
    "import json"
   ]
  },
  {
   "cell_type": "code",
   "execution_count": 2,
   "metadata": {},
   "outputs": [],
   "source": [
    "A, M, B, N, C, D = 0.0,0.0,0.0,0.0,0.0,0.0"
   ]
  },
  {
   "cell_type": "code",
   "execution_count": 25,
   "metadata": {},
   "outputs": [
    {
     "name": "stdout",
     "output_type": "stream",
     "text": [
      "apiRecall: 0.1\n",
      "qualityPrecision: 1.0\n",
      "qualityRecall: 0.1\n"
     ]
    }
   ],
   "source": [
    "def main():\n",
    "    ###Preprocessing\n",
    "    tweets = list()\n",
    "    with open('dAdjusted.txt') as f:\n",
    "        for line in f:\n",
    "            tweets.append(json.loads(line))\n",
    "\n",
    "    for tweet in tweets:\n",
    "        tweet['group'] = 'dPrime'\n",
    "\n",
    "\n",
    "    with open('mAdjusted.txt') as f:\n",
    "        for line in f:\n",
    "            currentTweet = json.loads(line)\n",
    "            for tweet in tweets:\n",
    "                if tweet['id'] == currentTweet['id']:\n",
    "                    tweet['group'] = 'm'\n",
    "\n",
    "    for tweet in tweets:\n",
    "        if tweet['group'] == 'm':\n",
    "            if tweet['relevant'] == True:\n",
    "                A = A+1.0\n",
    "            else:\n",
    "                M = M+1.0\n",
    "        else:\n",
    "            if tweet['match'] == True:\n",
    "                if tweet['relevant'] == True:\n",
    "                    B = B+1.0\n",
    "                else:\n",
    "                    N = N+1.0\n",
    "            else:\n",
    "                if tweet['relevant'] == True:\n",
    "                    C = C+1.0\n",
    "                else:\n",
    "                    D = D+1.0\n",
    "\n",
    "    apiRecall = (A+M)/(A+M+B+N)\n",
    "    qualityPrecision = A/(A+M)\n",
    "    qualityRecall = A/(A+B+C)\n",
    "\n",
    "    print(\"apiRecall: \"+str(apiRecall))\n",
    "    print(\"qualityPrecision: \"+ str(qualityPrecision))\n",
    "    print(\"qualityRecall: \"+str(qualityRecall))\n"
   ]
  },
  {
   "cell_type": "code",
   "execution_count": null,
   "metadata": {},
   "outputs": [],
   "source": []
  },
  {
   "cell_type": "code",
   "execution_count": null,
   "metadata": {},
   "outputs": [],
   "source": []
  }
 ],
 "metadata": {
  "kernelspec": {
   "display_name": "Python 3",
   "language": "python",
   "name": "python3"
  },
  "language_info": {
   "codemirror_mode": {
    "name": "ipython",
    "version": 3
   },
   "file_extension": ".py",
   "mimetype": "text/x-python",
   "name": "python",
   "nbconvert_exporter": "python",
   "pygments_lexer": "ipython3",
   "version": "3.6.5"
  }
 },
 "nbformat": 4,
 "nbformat_minor": 2
}
